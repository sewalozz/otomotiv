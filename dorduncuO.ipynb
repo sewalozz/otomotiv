{
 "cells": [
  {
   "cell_type": "code",
   "execution_count": 4,
   "metadata": {},
   "outputs": [
    {
     "name": "stdout",
     "output_type": "stream",
     "text": [
      "50\n"
     ]
    }
   ],
   "source": [
    "vize = 70\n",
    "\n",
    "final = (50 - vize*0.4) / 0.6\n",
    "if( final < 50) :\n",
    "    final = 50\n",
    "\n",
    "print(final)"
   ]
  },
  {
   "cell_type": "code",
   "execution_count": 10,
   "metadata": {},
   "outputs": [
    {
     "name": "stdout",
     "output_type": "stream",
     "text": [
      "tek sayı\n"
     ]
    }
   ],
   "source": [
    "N = 13\n",
    "\n",
    "kalan = N % 2\n",
    "\n",
    "if ( kalan == 0) :\n",
    "    print(\"Çift Sayı\")\n",
    "else :\n",
    "    print(\"tek sayı\")"
   ]
  },
  {
   "cell_type": "code",
   "execution_count": 16,
   "metadata": {},
   "outputs": [
    {
     "name": "stdout",
     "output_type": "stream",
     "text": [
      "Kaldı\n",
      "44\n"
     ]
    }
   ],
   "source": [
    "M1 , M2 , M3 , M4 = 20,62,60,35\n",
    "\n",
    "ortalama = ( M1 + M2 + M3 + M4) // 4\n",
    "\n",
    "if(ortalama > 60) : \n",
    "    print(\"Dersi Geçti\")\n",
    "else :\n",
    "    print(\"Kaldı\")\n",
    "print(ortalama)"
   ]
  },
  {
   "cell_type": "code",
   "execution_count": 18,
   "metadata": {},
   "outputs": [
    {
     "name": "stdout",
     "output_type": "stream",
     "text": [
      "109\n",
      "-2.906717751485092\n"
     ]
    }
   ],
   "source": [
    "import math\n",
    "def diskriminant (a,b,c) :\n",
    "    return b**2 - 4*a*c\n",
    "\n",
    "# 3x^2 + 7x -5 \n",
    "\n",
    "a = 3\n",
    "b = 7\n",
    "c = -5\n",
    "\n",
    "ds = diskriminant (a,b,c)\n",
    "\n",
    "print ( ds )\n",
    "\n",
    "kok1 = (-b - math.sqrt(ds )) / ( 2 * a)\n",
    "print(kok1)"
   ]
  },
  {
   "cell_type": "code",
   "execution_count": 20,
   "metadata": {},
   "outputs": [
    {
     "name": "stdout",
     "output_type": "stream",
     "text": [
      "1\n"
     ]
    }
   ],
   "source": [
    "def ciftmi(a):\n",
    "    return a % 2 == 0\n",
    "\n",
    "print( ciftmi (3))"
   ]
  },
  {
   "cell_type": "code",
   "execution_count": 24,
   "metadata": {},
   "outputs": [
    {
     "name": "stdout",
     "output_type": "stream",
     "text": [
      "False\n"
     ]
    }
   ],
   "source": [
    "def asalsayi ( x ) :\n",
    "    for i in (2,x-1):\n",
    "        if( x % i == 0) :\n",
    "            return False\n",
    "    return True\n",
    "\n",
    "print( asalsayi (22) )\n"
   ]
  },
  {
   "cell_type": "markdown",
   "metadata": {},
   "source": [
    "# Veri Yapıları\n",
    "\n",
    "python'da list olan şey diğer dillerde array Dizi"
   ]
  },
  {
   "cell_type": "code",
   "execution_count": 44,
   "metadata": {},
   "outputs": [
    {
     "name": "stdout",
     "output_type": "stream",
     "text": [
      "4 00 6\n",
      "deNeme\n",
      "deNeme"
     ]
    }
   ],
   "source": [
    "market_siparis = [\n",
    "    \"Domates\",\n",
    "     \"Patetes\" \n",
    "     ,\"Peynir\", \"Yoğurt\"\n",
    "     ]\n",
    "\n",
    "# print( market_siparis )\n",
    "\n",
    "# for i in market_siparis :\n",
    "#     print(i,end=\"--\")\n",
    "# print ( market_siparis[1] )\n",
    "\n",
    "a = \"deneme\"\n",
    "\n",
    "market_siparis[1] = \"Zeytin\"\n",
    "\n",
    "print(  len(market_siparis), len(a) ,sep=\" 00 \")\n",
    "\n",
    "# unmutable değiştirilemez\n",
    "# a[2] = \"N\"\n",
    "\n",
    "print( a[0] , a[1] , \"N\" , a[3], a[4], a[5] , sep=\"\")\n",
    "\n",
    "for i in range(len(a)):\n",
    "    if ( i == 2) :\n",
    "        print(\"N\",end=\"\")\n",
    "        continue\n",
    "    print(a[i],end=\"\" )\n",
    "\n"
   ]
  },
  {
   "cell_type": "code",
   "execution_count": 52,
   "metadata": {},
   "outputs": [
    {
     "name": "stdout",
     "output_type": "stream",
     "text": [
      "deNeme e e\n",
      "dNm\n"
     ]
    }
   ],
   "source": [
    "a = \"deNeme\"\n",
    "b = [ \"d\" , \"e\" , \"n\" , \"e\" , \"m\",\"e\"]\n",
    "b[2] = a[2]\n",
    "print( a[0:len(a)] , a[len(a)-1],a[-1] )\n",
    "print(a[0:5:2])"
   ]
  },
  {
   "cell_type": "code",
   "execution_count": 5,
   "metadata": {},
   "outputs": [
    {
     "name": "stdout",
     "output_type": "stream",
     "text": [
      "63.333333333333336\n"
     ]
    }
   ],
   "source": [
    "vize = 30\n",
    "\n",
    "final = ( 50 - vize * 0.4 ) / 0.6\n",
    "if(final>50) :\n",
    "    print(final)\n",
    "else :\n",
    "    print(50)"
   ]
  },
  {
   "cell_type": "code",
   "execution_count": 8,
   "metadata": {},
   "outputs": [
    {
     "name": "stdout",
     "output_type": "stream",
     "text": [
      "Çift\n"
     ]
    }
   ],
   "source": [
    "N = 12\n",
    "\n",
    "if ( N % 2 == 0) :\n",
    "    print(\"Çift\")\n",
    "else :\n",
    "    print(\"Tek\")"
   ]
  },
  {
   "cell_type": "code",
   "execution_count": 9,
   "metadata": {},
   "outputs": [
    {
     "name": "stdout",
     "output_type": "stream",
     "text": [
      "False\n"
     ]
    }
   ],
   "source": [
    "def ciftmi(x) :\n",
    "    return x % 2 == 0\n",
    "\n",
    "print( ciftmi (3) )"
   ]
  },
  {
   "cell_type": "code",
   "execution_count": 12,
   "metadata": {},
   "outputs": [
    {
     "name": "stdout",
     "output_type": "stream",
     "text": [
      "Başarısız\n",
      "48\n"
     ]
    }
   ],
   "source": [
    "M1 , M2 , M3 , M4 = 50,70,30,45\n",
    "\n",
    "ortalama = ( M1 + M2 + M3 + M4 ) // 4\n",
    "\n",
    "if(ortalama > 60) :\n",
    "    print(\"Başarılı\")\n",
    "else :\n",
    "    print(\"Başarısız\")\n",
    "print(ortalama)"
   ]
  },
  {
   "cell_type": "code",
   "execution_count": 14,
   "metadata": {},
   "outputs": [],
   "source": [
    "def asalmi(x) :\n",
    "    for i in range(2,x-1):\n",
    "        if (x % i == 0) :\n",
    "            return False\n",
    "    return True"
   ]
  },
  {
   "cell_type": "code",
   "execution_count": 18,
   "metadata": {},
   "outputs": [],
   "source": [
    "\n",
    "S = 12\n",
    "p = 15\n",
    "# if ( ciftmi  (p) ):\n",
    "#     p += 1\n",
    "# else :\n",
    "#     if( asalmi(p) ) :\n",
    "#         if( p < S ) :\n",
    "#                 S = S-p\n",
    "#                 p = p + 2\n",
    "#         else :\n",
    "#             S = S -1 \n"
   ]
  },
  {
   "cell_type": "markdown",
   "metadata": {},
   "source": [
    "# Veri Yapıları\n",
    "\n",
    "## python'da list diğer dillerde array"
   ]
  },
  {
   "cell_type": "code",
   "execution_count": 22,
   "metadata": {},
   "outputs": [
    {
     "name": "stdout",
     "output_type": "stream",
     "text": [
      "['Domates', 'Patetes', 'Yoğurt', 'Peynir']\n"
     ]
    }
   ],
   "source": [
    "market_siparisi = [\n",
    "    \"Domates\" ,\n",
    " \"Patetes\" ,\n",
    "  \"Yoğurt\",\"Peynir\"\n",
    " \n",
    " ]\n",
    "\n",
    "print( market_siparisi )"
   ]
  },
  {
   "cell_type": "code",
   "execution_count": 29,
   "metadata": {},
   "outputs": [
    {
     "name": "stdout",
     "output_type": "stream",
     "text": [
      "DeNeme\n"
     ]
    }
   ],
   "source": [
    "# print( market_siparisi[1] )\n",
    "\n",
    "market_siparisi[1] = \"Zeytin\"\n",
    "\n",
    "# print(market_siparisi)\n",
    "# mutable unmutable\n",
    "a = \"Deneme\"\n",
    "\n",
    "# a[2] = \"N\"\n",
    "\n",
    "b  = [ \"D\" ,\"e\" , \"n\", \"e\" , \"m\" , \"e\"]\n",
    "b[2] = \"N\"\n",
    "# print(b)\n",
    "\n",
    "print( a[0] , a[1] , \"N\" , a[3] , a[4] , a[5],sep=\"\")\n"
   ]
  },
  {
   "cell_type": "code",
   "execution_count": 33,
   "metadata": {},
   "outputs": [
    {
     "name": "stdout",
     "output_type": "stream",
     "text": [
      "DeNeme"
     ]
    }
   ],
   "source": [
    "for i in range( 0,len(a)  ):\n",
    "    if(i == 2) :\n",
    "        print(\"N\" ,end=\"\")\n",
    "        continue\n",
    "    print(a[i],end=\"\")"
   ]
  },
  {
   "cell_type": "code",
   "execution_count": 41,
   "metadata": {},
   "outputs": [
    {
     "data": {
      "text/plain": [
       "'Dnm'"
      ]
     },
     "execution_count": 41,
     "metadata": {},
     "output_type": "execute_result"
    }
   ],
   "source": [
    "b[0:3]\n",
    "a[0:5:2]"
   ]
  }
 ],
 "metadata": {
  "interpreter": {
   "hash": "e7370f93d1d0cde622a1f8e1c04877d8463912d04d973331ad4851f04de6915a"
  },
  "kernelspec": {
   "display_name": "Python 3.9.7 64-bit",
   "name": "python3"
  },
  "language_info": {
   "codemirror_mode": {
    "name": "ipython",
    "version": 3
   },
   "file_extension": ".py",
   "mimetype": "text/x-python",
   "name": "python",
   "nbconvert_exporter": "python",
   "pygments_lexer": "ipython3",
   "version": "3.9.7"
  },
  "orig_nbformat": 4
 },
 "nbformat": 4,
 "nbformat_minor": 2
}
