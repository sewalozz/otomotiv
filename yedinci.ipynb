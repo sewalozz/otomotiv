{
 "cells": [
  {
   "cell_type": "code",
   "execution_count": 4,
   "metadata": {},
   "outputs": [
    {
     "name": "stdout",
     "output_type": "stream",
     "text": [
      "3.141592653589793\n",
      "2.23606797749979\n",
      "8192\n"
     ]
    }
   ],
   "source": [
    "import math \n",
    "\n",
    "print(math.pi)\n",
    "print( math.sqrt(5) )\n",
    "\n",
    "import numpy as np\n",
    "\n",
    "print( np.BUFSIZE )\n",
    "\n",
    "import matplotlib as mp\n",
    "\n"
   ]
  },
  {
   "cell_type": "code",
   "execution_count": 5,
   "metadata": {},
   "outputs": [
    {
     "name": "stdout",
     "output_type": "stream",
     "text": [
      "5.0\n"
     ]
    }
   ],
   "source": [
    "import math as m\n",
    "from math import sqrt\n",
    "# def sqrt():\n",
    "#     pass\n",
    "print(m.sqrt(25))\n",
    "print(sqrt(25))"
   ]
  },
  {
   "cell_type": "code",
   "execution_count": 7,
   "metadata": {},
   "outputs": [
    {
     "name": "stdout",
     "output_type": "stream",
     "text": [
      "Araç son fiyatı: 556000.0\n"
     ]
    }
   ],
   "source": [
    "import vergihesaplari\n",
    "\n",
    "aracFiyati = 200_000\n",
    "aracKategorisi = \"lüks\"\n",
    "aracMh = 2500\n",
    "\n",
    "print( \"Araç son fiyatı: {}\".format(\n",
    "    vergihesaplari.sonFiyat(aracFiyati,aracKategorisi,aracMh)\n",
    ") )"
   ]
  },
  {
   "cell_type": "code",
   "execution_count": 9,
   "metadata": {},
   "outputs": [
    {
     "name": "stdout",
     "output_type": "stream",
     "text": [
      "54.0\n"
     ]
    }
   ],
   "source": [
    "import ogrenciler.notu\n",
    "from ogrenciler.notu import finalGerekli\n",
    "\n",
    "print(ogrenciler.notu.finalGerekli(44))\n",
    "print(finalGerekli(44))"
   ]
  },
  {
   "cell_type": "code",
   "execution_count": null,
   "metadata": {},
   "outputs": [],
   "source": [
    "import sys , math , vergihesaplari\n",
    "from math import sqrt\n",
    "from math import *\n"
   ]
  },
  {
   "cell_type": "code",
   "execution_count": 15,
   "metadata": {},
   "outputs": [
    {
     "name": "stdout",
     "output_type": "stream",
     "text": [
      "[[13 14  7]\n",
      " [14 17  6]\n",
      " [ 7  6  5]]\n"
     ]
    }
   ],
   "source": [
    "\n",
    "import numpy as np\n",
    "import pygame as pg\n",
    "\n",
    "A = [\n",
    "    [2,3],\n",
    "    [1,4],\n",
    "    [2,1]\n",
    "]\n",
    "\n",
    "nar = np.array(A)\n",
    "C = nar.dot(nar.T)\n",
    "print(C)\n",
    "\n"
   ]
  },
  {
   "cell_type": "code",
   "execution_count": null,
   "metadata": {},
   "outputs": [],
   "source": []
  }
 ],
 "metadata": {
  "interpreter": {
   "hash": "e7370f93d1d0cde622a1f8e1c04877d8463912d04d973331ad4851f04de6915a"
  },
  "kernelspec": {
   "display_name": "Python 3.9.7 64-bit",
   "language": "python",
   "name": "python3"
  },
  "language_info": {
   "codemirror_mode": {
    "name": "ipython",
    "version": 3
   },
   "file_extension": ".py",
   "mimetype": "text/x-python",
   "name": "python",
   "nbconvert_exporter": "python",
   "pygments_lexer": "ipython3",
   "version": "3.9.7"
  },
  "orig_nbformat": 4
 },
 "nbformat": 4,
 "nbformat_minor": 2
}
