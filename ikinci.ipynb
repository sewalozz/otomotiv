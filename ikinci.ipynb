{
 "cells": [
  {
   "cell_type": "markdown",
   "metadata": {},
   "source": [
    "*Kontrol Akışları*"
   ]
  },
  {
   "cell_type": "code",
   "execution_count": 2,
   "metadata": {},
   "outputs": [
    {
     "name": "stdout",
     "output_type": "stream",
     "text": [
      "100defa yaz..100defa yaz..100defa yaz..100defa yaz..100defa yaz..100defa yaz..100defa yaz..100defa yaz..100defa yaz..100defa yaz..100defa yaz..100defa yaz..100defa yaz..100defa yaz..100defa yaz..100defa yaz..100defa yaz..100defa yaz..100defa yaz..100defa yaz..100defa yaz..100defa yaz..100defa yaz..100defa yaz..100defa yaz..100defa yaz..100defa yaz..100defa yaz..100defa yaz..100defa yaz..100defa yaz..100defa yaz..100defa yaz..100defa yaz..100defa yaz..100defa yaz..100defa yaz..100defa yaz..100defa yaz..100defa yaz..100defa yaz..100defa yaz..100defa yaz..100defa yaz..100defa yaz..100defa yaz..100defa yaz..100defa yaz..100defa yaz..100defa yaz..100defa yaz..100defa yaz..100defa yaz..100defa yaz..100defa yaz..100defa yaz..100defa yaz..100defa yaz..100defa yaz..100defa yaz..100defa yaz..100defa yaz..100defa yaz..100defa yaz..100defa yaz..100defa yaz..100defa yaz..100defa yaz..100defa yaz..100defa yaz..100defa yaz..100defa yaz..100defa yaz..100defa yaz..100defa yaz..100defa yaz..100defa yaz..100defa yaz..100defa yaz..100defa yaz..100defa yaz..100defa yaz..100defa yaz..100defa yaz..100defa yaz..100defa yaz..100defa yaz..100defa yaz..100defa yaz..100defa yaz..100defa yaz..100defa yaz..100defa yaz..100defa yaz..100defa yaz..100defa yaz..100defa yaz..100defa yaz..100defa yaz..100defa yaz..\n"
     ]
    }
   ],
   "source": [
    "print(\"100defa yaz..\"*100)"
   ]
  },
  {
   "cell_type": "markdown",
   "metadata": {},
   "source": [
    "mesela if konusunda c dillerinde olsaydı\n",
    "if ( 2 > 1 ) { şart burada geçerli olurdu.. }\n",
    "<>\n",
    "\n",
    "< >  <=  >=  == != "
   ]
  },
  {
   "cell_type": "code",
   "execution_count": 7,
   "metadata": {},
   "outputs": [
    {
     "name": "stdout",
     "output_type": "stream",
     "text": [
      "burasını yaz.\n",
      "olmayan ihtimalde yazdır.\n"
     ]
    }
   ],
   "source": [
    "print(\"burasını yaz.\")\n",
    "\n",
    "if (2 != 1) :\n",
    "    print(\"eğer şartı varsa yazıdır.\")\n",
    "    print(\"eğer şartı varsa yazıdır.\")\n",
    "    print(\"eğer şartı varsa yazıdır.\")\n",
    "else :\n",
    "    print(\"olmayan ihtimalde yazdır.\")\n"
   ]
  },
  {
   "cell_type": "code",
   "execution_count": 8,
   "metadata": {},
   "outputs": [
    {
     "name": "stdout",
     "output_type": "stream",
     "text": [
      "a b'den büyüktür\n"
     ]
    }
   ],
   "source": [
    "a = 5\n",
    "b = 3\n",
    "\n",
    "if( a < b ):\n",
    "    print(\"a b'den küçüktür\")\n",
    "elif(a > b):\n",
    "    print(\"a b'den büyüktür\")\n",
    "elif(a==b) :\n",
    "    print(\"a b'ye eşittir.\")\n",
    "else :\n",
    "    print(\"asla çalışmayacak.\")"
   ]
  },
  {
   "cell_type": "markdown",
   "metadata": {},
   "source": [
    "c dili olsa girinti olmadığı için\n",
    "if(a > b) {} ;"
   ]
  },
  {
   "cell_type": "code",
   "execution_count": 10,
   "metadata": {},
   "outputs": [
    {
     "name": "stdout",
     "output_type": "stream",
     "text": [
      "[35-39]\n"
     ]
    }
   ],
   "source": [
    "# sensor 30 ile 45 arası veri üretmektedir.\n",
    "sensor = 37\n",
    "\n",
    "if(sensor >= 30 and sensor<35) :\n",
    "    print(\"30-34\")\n",
    "elif(sensor >= 35 and sensor<40) :\n",
    "    print(\"[35-39]\")\n",
    "elif (sensor >= 40 and sensor <45):\n",
    "    print(\"afsdfsadd\")\n",
    "elif (sensor == 45 or sensor > 45): # >= yazsak olurdu.\n",
    "    print(\"dsaf\")\n",
    "else :\n",
    "    print(\"son ihtimal\")\n",
    "    pass\n"
   ]
  },
  {
   "cell_type": "markdown",
   "metadata": {},
   "source": [
    "match sensor :\n",
    "    case 35 :\n",
    "        print(\"dafasdf)\n",
    "        return \"\"\n",
    "\n",
    "switch(sensor) {\n",
    "    case 35 :\n",
    "        dfsafdsaf\n",
    "}"
   ]
  },
  {
   "cell_type": "code",
   "execution_count": 11,
   "metadata": {},
   "outputs": [
    {
     "name": "stdout",
     "output_type": "stream",
     "text": [
      "bu nereye ait?\n",
      "bu nereye ait? 2 \n",
      "program sonlandı.\n"
     ]
    }
   ],
   "source": [
    "a = 3\n",
    "b = 2\n",
    "if( a > 2 ) :\n",
    "    if(b<3) :\n",
    "        if(  a<b) :\n",
    "            print(\"a bden küçük\")\n",
    "        print(\"bu nereye ait?\")\n",
    "    print(\"bu nereye ait? 2 \")\n",
    "print(\"program sonlandı.\")"
   ]
  },
  {
   "cell_type": "markdown",
   "metadata": {},
   "source": [
    "# Döngüler\n",
    "\n",
    "* while\n",
    "* for"
   ]
  },
  {
   "cell_type": "code",
   "execution_count": 18,
   "metadata": {},
   "outputs": [
    {
     "name": "stdout",
     "output_type": "stream",
     "text": [
      "çalıştır.\n",
      "çalıştır.\n",
      "çalıştır.\n",
      "çalıştır.\n",
      "çalıştır.\n"
     ]
    }
   ],
   "source": [
    "iterasyon_sayisi = 5\n",
    "while ( iterasyon_sayisi < 10 ) :\n",
    "    print(\"çalıştır.\")\n",
    "    iterasyon_sayisi = iterasyon_sayisi + 1"
   ]
  }
 ],
 "metadata": {
  "interpreter": {
   "hash": "e7370f93d1d0cde622a1f8e1c04877d8463912d04d973331ad4851f04de6915a"
  },
  "kernelspec": {
   "display_name": "Python 3.9.7 64-bit",
   "name": "python3"
  },
  "language_info": {
   "codemirror_mode": {
    "name": "ipython",
    "version": 3
   },
   "file_extension": ".py",
   "mimetype": "text/x-python",
   "name": "python",
   "nbconvert_exporter": "python",
   "pygments_lexer": "ipython3",
   "version": "3.9.7"
  },
  "orig_nbformat": 4
 },
 "nbformat": 4,
 "nbformat_minor": 2
}
