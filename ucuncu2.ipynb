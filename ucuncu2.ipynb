{
 "cells": [
  {
   "cell_type": "markdown",
   "metadata": {},
   "source": [
    "# Fonksiyonlar"
   ]
  },
  {
   "cell_type": "code",
   "execution_count": 3,
   "metadata": {},
   "outputs": [
    {
     "name": "stdout",
     "output_type": "stream",
     "text": [
      "5 faktoriyel değeri = 120\n"
     ]
    }
   ],
   "source": [
    "a = 5\n",
    "sonuc = 1\n",
    "for i in range(1,a+1):\n",
    "    sonuc *= i\n",
    "print( \"{} faktoriyel değeri = {}\".format(a,sonuc) )\n"
   ]
  },
  {
   "cell_type": "code",
   "execution_count": 12,
   "metadata": {},
   "outputs": [
    {
     "name": "stdout",
     "output_type": "stream",
     "text": [
      "6689502913449127057588118054090372586752746333138029810295671352301633557244962989366874165271984981308157637893214090552534408589408121859898481114389650005964960521256960000000000000000000000000000\n"
     ]
    }
   ],
   "source": [
    "def faktoriyel(a):\n",
    "    sonuc = 1\n",
    "    for i in range(1,a+1):\n",
    "        sonuc *= i\n",
    "    # print( \"{} faktoriyel değeri = {}\".format(a,sonuc) )\n",
    "    return sonuc\n",
    "x = faktoriyel(faktoriyel(5))\n",
    "print(x)"
   ]
  },
  {
   "cell_type": "code",
   "execution_count": 13,
   "metadata": {},
   "outputs": [
    {
     "name": "stdout",
     "output_type": "stream",
     "text": [
      "Merhaba Ömer\n"
     ]
    }
   ],
   "source": [
    "def merhaba_de(isim) :\n",
    "    print(\"Merhaba\", isim)\n",
    "\n",
    "merhaba_de(\"Ömer\")"
   ]
  },
  {
   "cell_type": "markdown",
   "metadata": {},
   "source": [
    "Recursive - Yinelemeli Fonksiyonlar"
   ]
  },
  {
   "cell_type": "code",
   "execution_count": 16,
   "metadata": {},
   "outputs": [
    {
     "data": {
      "text/plain": [
       "120"
      ]
     },
     "execution_count": 16,
     "metadata": {},
     "output_type": "execute_result"
    }
   ],
   "source": [
    "def faktoriyel(sayi) :\n",
    "    sonuc = sayi\n",
    "    if sayi == 1:\n",
    "        return 1\n",
    "    sonuc *= faktoriyel(sayi-1)\n",
    "    return sonuc\n",
    "faktoriyel(5)"
   ]
  },
  {
   "cell_type": "code",
   "execution_count": 18,
   "metadata": {},
   "outputs": [
    {
     "name": "stdout",
     "output_type": "stream",
     "text": [
      "120\n"
     ]
    }
   ],
   "source": [
    "import math\n",
    "\n",
    "print ( math.factorial(5) )"
   ]
  },
  {
   "cell_type": "code",
   "execution_count": 24,
   "metadata": {},
   "outputs": [
    {
     "name": "stdout",
     "output_type": "stream",
     "text": [
      "15\n",
      "63\n",
      "15\n",
      "27\n"
     ]
    }
   ],
   "source": [
    "def çarp(a=3,b=5) :\n",
    "    '''buraya açıklama yapılır.  \n",
    "    a değeri bir integer olmalı.  \n",
    "    b değeri 10'dan küçük olmalı. vs.\n",
    "    doc string\n",
    "    '''\n",
    "    return a*b\n",
    "\n",
    "print( çarp(5,3) )\n",
    "print( çarp(9) )\n",
    "print( çarp() )\n",
    "print( çarp(b=9) )\n"
   ]
  },
  {
   "cell_type": "markdown",
   "metadata": {},
   "source": [
    "Variable Scope -  Değişkenin Geçerli Olduğu Blok"
   ]
  },
  {
   "cell_type": "code",
   "execution_count": 26,
   "metadata": {},
   "outputs": [
    {
     "name": "stdout",
     "output_type": "stream",
     "text": [
      "Merhaba Deneme\n",
      "Deneme\n"
     ]
    }
   ],
   "source": [
    "isim = \"Ömer\"\n",
    "def merhaba(a) :\n",
    "    global isim \n",
    "    isim = \"Deneme\"\n",
    "    print( \"Merhaba {}\" .format(isim)  )\n",
    "\n",
    "merhaba(\"Ali\")\n",
    "print(isim)"
   ]
  },
  {
   "cell_type": "code",
   "execution_count": 30,
   "metadata": {},
   "outputs": [
    {
     "name": "stdout",
     "output_type": "stream",
     "text": [
      "Çalışma süresi 3.9316697120666504 sn sürdü.\n"
     ]
    }
   ],
   "source": [
    "import time \n",
    "\n",
    "baslangic = time.time()\n",
    "i = 0\n",
    "while i < 1e7 :\n",
    "    x = i**2\n",
    "    i+=1\n",
    "print(\"Çalışma süresi\" , time.time()-baslangic , \"sn sürdü.\")"
   ]
  }
 ],
 "metadata": {
  "interpreter": {
   "hash": "e7370f93d1d0cde622a1f8e1c04877d8463912d04d973331ad4851f04de6915a"
  },
  "kernelspec": {
   "display_name": "Python 3.9.7 64-bit",
   "name": "python3"
  },
  "language_info": {
   "codemirror_mode": {
    "name": "ipython",
    "version": 3
   },
   "file_extension": ".py",
   "mimetype": "text/x-python",
   "name": "python",
   "nbconvert_exporter": "python",
   "pygments_lexer": "ipython3",
   "version": "3.9.7"
  },
  "orig_nbformat": 4
 },
 "nbformat": 4,
 "nbformat_minor": 2
}
