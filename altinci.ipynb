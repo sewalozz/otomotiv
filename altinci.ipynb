{
 "cells": [
  {
   "cell_type": "code",
   "execution_count": 17,
   "metadata": {},
   "outputs": [
    {
     "name": "stdout",
     "output_type": "stream",
     "text": [
      "merhaba ömer\n",
      "merhaba ömer\n",
      "##abc## ömer\n",
      "3.142\n"
     ]
    }
   ],
   "source": [
    "import math;\n",
    "# print ( \"merhaba \\{ {} \\}\".format(\"ömer\") )\n",
    "print ( \"merhaba {isim}\".format(isim=\"ömer\") )\n",
    "print ( \"{1} {0}\".format(\"ömer\",\"merhaba\") )\n",
    "print ( \"{1:#^7} {0}\".format(\"ömer\",\"abc\") )\n",
    "print ( \"{0:.3f}\".format(math.pi) )"
   ]
  },
  {
   "cell_type": "code",
   "execution_count": 20,
   "metadata": {},
   "outputs": [
    {
     "name": "stdout",
     "output_type": "stream",
     "text": [
      "merhaba ali\n"
     ]
    }
   ],
   "source": [
    "a = [\"ali\" ,\"veli\"]\n",
    "print( \"merhaba {par[0]}\".format(par=a))"
   ]
  },
  {
   "cell_type": "code",
   "execution_count": 30,
   "metadata": {},
   "outputs": [
    {
     "name": "stdout",
     "output_type": "stream",
     "text": [
      "abc____ ömer\n",
      "__abc__ ömer\n",
      "____abc ömer\n",
      "1.000000e+06\n"
     ]
    }
   ],
   "source": [
    "print ( \"{1:_<7} {0}\".format(\"ömer\",\"abc\") )\n",
    "print ( \"{1:_^7} {0}\".format(\"ömer\",\"abc\") )\n",
    "print ( \"{1:_>7} {0}\".format(\"ömer\",\"abc\") )\n",
    "print( \"{:e}\".format(1_000_000) )"
   ]
  },
  {
   "cell_type": "markdown",
   "metadata": {},
   "source": [
    "   *\n",
    "  ***\n",
    " *****\n",
    "*******\n",
    " *****\n",
    "  ***\n",
    "   *"
   ]
  },
  {
   "cell_type": "code",
   "execution_count": 36,
   "metadata": {},
   "outputs": [
    {
     "name": "stdout",
     "output_type": "stream",
     "text": [
      "*****\n",
      "****\n",
      "***\n",
      "**\n",
      "*\n",
      "*****\n",
      "****\n",
      "***\n",
      "**\n",
      "*\n"
     ]
    }
   ],
   "source": [
    "for i in range(1,6) :\n",
    "    print((6-i)*\"*\")\n",
    "# for i in range(5,0,-1) :\n",
    "#     print(i*\"*\")"
   ]
  },
  {
   "cell_type": "code",
   "execution_count": 45,
   "metadata": {},
   "outputs": [
    {
     "name": "stdout",
     "output_type": "stream",
     "text": [
      "*\n",
      "**\n",
      "***\n",
      "****\n",
      "*****\n",
      "****\n",
      "***\n",
      "**\n",
      "*\n",
      "\n"
     ]
    }
   ],
   "source": [
    "orta = 5\n",
    "satirsayisi = 10\n",
    "for i in range(satirsayisi):\n",
    "    if(i >= orta ) :\n",
    "        print(\"*\"*(satirsayisi-i-1))\n",
    "    else:\n",
    "        print(\"*\"*(i+1))"
   ]
  },
  {
   "cell_type": "code",
   "execution_count": 49,
   "metadata": {},
   "outputs": [
    {
     "name": "stdout",
     "output_type": "stream",
     "text": [
      "   *   \n",
      "  ***  \n",
      " ***** \n",
      "*******\n",
      " ***** \n",
      "  ***  \n",
      "   *   \n"
     ]
    }
   ],
   "source": [
    "orta = 7\n",
    "satirsayisi = 14\n",
    "for i in range(0,satirsayisi,2):\n",
    "    if(i >= orta ) :\n",
    "        print(\"{: ^7}\".format(\"*\"*(satirsayisi-i-1)))\n",
    "    else:\n",
    "        print(\"{: ^7}\".format(\"*\"*(i+1)))"
   ]
  },
  {
   "cell_type": "code",
   "execution_count": 19,
   "metadata": {},
   "outputs": [
    {
     "name": "stdout",
     "output_type": "stream",
     "text": [
      "55 [1, 2, 2, 2, 3, 4, 4, 5, 7, 8, 36]\n"
     ]
    }
   ],
   "source": [
    "a = [7,3,5,1,2,4,8,2,4,36,2]\n",
    "# print( sorted(a) )\n",
    "def swap(l,x,y) :\n",
    "    tmp = l[x]\n",
    "    l[x] = l[y]\n",
    "    l[y] = tmp\n",
    "# swap(a,1,2)\n",
    "dongusayisi = 0\n",
    "for z in range(len(a)):\n",
    "    for i in range(len(a)-1-z):\n",
    "        dongusayisi += 1\n",
    "        if(a[i] > a[i+1]):\n",
    "            swap(a,i,i+1)\n",
    "print(dongusayisi,a)"
   ]
  },
  {
   "cell_type": "markdown",
   "metadata": {},
   "source": [
    "# Matris"
   ]
  },
  {
   "cell_type": "code",
   "execution_count": 29,
   "metadata": {},
   "outputs": [
    {
     "name": "stdout",
     "output_type": "stream",
     "text": [
      "12\n",
      "17\n",
      "6\n"
     ]
    }
   ],
   "source": [
    "A = [\n",
    "    [2,3],\n",
    "    [1,4],\n",
    "    [2,1]\n",
    "]\n",
    "\n",
    "# 3xA\n",
    "# for satirInd in range(len(A)) :\n",
    "#     for hucreInd in range(len(A[satirInd])):\n",
    "#         A[satirInd][hucreInd] *= 3\n",
    "\n",
    "B = [ \n",
    "    [3,1,2],\n",
    "    [2,4,2]\n",
    "]\n",
    "\n",
    "#AxB\n",
    "\n",
    "C = [\n",
    "    [0,0],\n",
    "    [0,0]\n",
    "]\n",
    "\n",
    "for satirInd in range(len(A)) :\n",
    "    sonuc = 0\n",
    "    for sutunInd in range(len(A[satirInd])):\n",
    "        # A[satirInd][hucreInd] \n",
    "        # print(satirInd, hucreInd)\n",
    "        # print(A[satirInd][sutunInd]*B[sutunInd][satirInd] )\n",
    "        sonuc += A[satirInd][sutunInd]*B[sutunInd][satirInd]\n",
    "    print(sonuc)"
   ]
  }
 ],
 "metadata": {
  "interpreter": {
   "hash": "4e1d9a8909477db77738c33245c29c7265277ef753467dede8cf3f814cde494e"
  },
  "kernelspec": {
   "display_name": "Python 3.9.7 64-bit",
   "language": "python",
   "name": "python3"
  },
  "language_info": {
   "codemirror_mode": {
    "name": "ipython",
    "version": 3
   },
   "file_extension": ".py",
   "mimetype": "text/x-python",
   "name": "python",
   "nbconvert_exporter": "python",
   "pygments_lexer": "ipython3",
   "version": "3.9.7"
  },
  "orig_nbformat": 4
 },
 "nbformat": 4,
 "nbformat_minor": 2
}
