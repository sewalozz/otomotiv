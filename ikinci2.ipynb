{
 "cells": [
  {
   "cell_type": "markdown",
   "metadata": {},
   "source": [
    "# jupyter note book  ipynb"
   ]
  },
  {
   "cell_type": "code",
   "execution_count": 2,
   "metadata": {},
   "outputs": [
    {
     "name": "stdout",
     "output_type": "stream",
     "text": [
      "denem\n",
      "3\n"
     ]
    }
   ],
   "source": [
    "print(\"denem\")\n",
    "a = 3\n",
    "print(a)"
   ]
  },
  {
   "cell_type": "markdown",
   "metadata": {},
   "source": [
    "# Kontrollü akışlar"
   ]
  },
  {
   "cell_type": "markdown",
   "metadata": {},
   "source": [
    "c dillerinde komut blokları süslü parantez içerisinde olur.\n",
    "\n",
    "if ( 2 > 3 ) {\n",
    "    printf(\"dasfds\");\n",
    "    printf(\"dasfds\");\n",
    "    printf(\"dasfds\");\n",
    "}\n",
    "if(2>3){}\n"
   ]
  },
  {
   "cell_type": "code",
   "execution_count": 9,
   "metadata": {},
   "outputs": [
    {
     "name": "stdout",
     "output_type": "stream",
     "text": [
      "bu kesin yazmalıı\n",
      "bu şarta bağlı yazmalı\n",
      "bu şarta bağlı yazmalı\n",
      "bu şarta bağlı yazmalı\n",
      "fasfdsa\n"
     ]
    }
   ],
   "source": [
    "print(\"bu kesin yazmalıı\")\n",
    "if 2 < 3 :\n",
    "    print(\"bu şarta bağlı yazmalı\")\n",
    "    print(\"bu şarta bağlı yazmalı\")\n",
    "    print(\"bu şarta bağlı yazmalı\")\n",
    "else :\n",
    "    print(\"bu şart geçerli değil ise yazmalı.\")\n",
    "    pass\n",
    "print(\"fasfdsa\")"
   ]
  },
  {
   "cell_type": "markdown",
   "metadata": {},
   "source": [
    "<   >  \n",
    "<=  >=\n",
    "\n",
    "==  != \n",
    "\n",
    "# <>"
   ]
  },
  {
   "cell_type": "code",
   "execution_count": 11,
   "metadata": {},
   "outputs": [
    {
     "name": "stdout",
     "output_type": "stream",
     "text": [
      "a b'den küçük\n"
     ]
    }
   ],
   "source": [
    "a = 3\n",
    "b = 5\n",
    "\n",
    "if a < b :\n",
    "    print(\"a b'den küçük\")\n",
    "elif a > b : \n",
    "    print(\"a b'den büyük\")\n",
    "# elif  a == b :\n",
    "else :\n",
    "    print(\"a b'ye eşit \")\n"
   ]
  },
  {
   "cell_type": "code",
   "execution_count": 15,
   "metadata": {},
   "outputs": [
    {
     "name": "stdout",
     "output_type": "stream",
     "text": [
      "anlaşılamayan bir durum ouştu.\n"
     ]
    }
   ],
   "source": [
    "sensor = 11 # 13 - 20 arası\n",
    "\n",
    "if ( sensor == 13 or sensor == 14) :\n",
    "    print(\"araba kayıyor\")\n",
    "elif (sensor >= 15 and sensor<17 ) :\n",
    "    print(\"araba patinaj çekiyor\")\n",
    "elif (sensor >= 17 and sensor <20 ) :\n",
    "    print(\"araba anlaşılamadı çekiyor\")\n",
    "elif (sensor == 20 or sensor > 20 ) : # == or >   >=\n",
    "    print(\"araba patladı.\")\n",
    "else :\n",
    "    print(\"anlaşılamayan bir durum ouştu.\")"
   ]
  },
  {
   "cell_type": "code",
   "execution_count": 16,
   "metadata": {},
   "outputs": [
    {
     "name": "stdout",
     "output_type": "stream",
     "text": [
      "bu da doğru idi?\n",
      "ya bu ?\n",
      "bu kesin yazmalı..\n"
     ]
    }
   ],
   "source": [
    "if (3 > 2 ) : # if ( 3>2 and 2>1 and 1>0)\n",
    "    if( 2 > 1 ) :\n",
    "        if ( 1 < 0 ) :\n",
    "            print(\"doğru\")\n",
    "        print(\"bu da doğru idi?\")\n",
    "    print(\"ya bu ?\")\n",
    "print(\"bu kesin yazmalı..\")"
   ]
  },
  {
   "cell_type": "markdown",
   "metadata": {},
   "source": [
    "# Döngüler\n",
    "* for\n",
    "* while"
   ]
  },
  {
   "cell_type": "code",
   "execution_count": 23,
   "metadata": {},
   "outputs": [
    {
     "name": "stdout",
     "output_type": "stream",
     "text": [
      "3\n",
      "4\n",
      "5\n",
      "6\n",
      "7\n",
      "8\n",
      "9\n"
     ]
    }
   ],
   "source": [
    "i = 3\n",
    "while i<10 :\n",
    "    print(i)\n",
    "    i += 1 # i = i + 1"
   ]
  },
  {
   "cell_type": "code",
   "execution_count": 27,
   "metadata": {},
   "outputs": [
    {
     "name": "stdout",
     "output_type": "stream",
     "text": [
      "5 sonsuz..\n",
      "6 sonsuz..\n",
      "7 sonsuz..\n",
      "8 sonsuz..\n",
      "9 sonsuz..\n",
      "10 sonsuz..\n"
     ]
    }
   ],
   "source": [
    "i = 3\n",
    "while True : # 1 :\n",
    "    i += 1\n",
    "    if i < 5:\n",
    "        continue\n",
    "    if (i > 10) :\n",
    "        break\n",
    "    print(i, \"sonsuz..\")"
   ]
  },
  {
   "cell_type": "code",
   "execution_count": 28,
   "metadata": {},
   "outputs": [
    {
     "name": "stdout",
     "output_type": "stream",
     "text": [
      "o\n",
      "t\n",
      "o\n",
      "m\n",
      "o\n",
      "t\n",
      "i\n",
      "v\n"
     ]
    }
   ],
   "source": [
    "for i in \"otomotiv\" :\n",
    "    print(i)"
   ]
  },
  {
   "cell_type": "code",
   "execution_count": 30,
   "metadata": {},
   "outputs": [
    {
     "name": "stdout",
     "output_type": "stream",
     "text": [
      "0\n",
      "1\n",
      "2\n",
      "3\n",
      "4\n",
      "0\n",
      "1\n",
      "2\n",
      "3\n",
      "4\n"
     ]
    }
   ],
   "source": [
    "i = 0\n",
    "while i < 5 :\n",
    "    print(i)\n",
    "    i+= 1\n",
    "\n",
    "\n",
    "for i in range(5) :\n",
    "    print(i)"
   ]
  },
  {
   "cell_type": "code",
   "execution_count": 31,
   "metadata": {},
   "outputs": [
    {
     "name": "stdout",
     "output_type": "stream",
     "text": [
      "3\n",
      "5\n",
      "7\n",
      "9\n",
      "11\n",
      "13\n"
     ]
    }
   ],
   "source": [
    "for bora in range(3,15,2):\n",
    "    print(bora)"
   ]
  }
 ],
 "metadata": {
  "interpreter": {
   "hash": "e7370f93d1d0cde622a1f8e1c04877d8463912d04d973331ad4851f04de6915a"
  },
  "kernelspec": {
   "display_name": "Python 3.9.7 64-bit",
   "name": "python3"
  },
  "language_info": {
   "codemirror_mode": {
    "name": "ipython",
    "version": 3
   },
   "file_extension": ".py",
   "mimetype": "text/x-python",
   "name": "python",
   "nbconvert_exporter": "python",
   "pygments_lexer": "ipython3",
   "version": "3.9.7"
  },
  "orig_nbformat": 4
 },
 "nbformat": 4,
 "nbformat_minor": 2
}
